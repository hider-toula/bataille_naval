{
 "cells": [
  {
   "cell_type": "code",
   "execution_count": 3,
   "metadata": {},
   "outputs": [],
   "source": [
    "class bateau ():\n",
    "    def __init__(self,id):\n",
    "        self.id =id \n",
    "    def size(self):\n",
    "        if self.id == 1 :\n",
    "            return 5\n",
    "        elif self.id == 2:\n",
    "            return 4\n",
    "        elif self.id == 3:\n",
    "            return 3\n",
    "        elif self.id == 4:\n",
    "            return 3\n",
    "        elif self.id == 5:\n",
    "            return 2\n",
    "        else:\n",
    "            return 0\n",
    "    def getId(self):\n",
    "        return self.id"
   ]
  },
  {
   "cell_type": "code",
   "execution_count": 4,
   "metadata": {},
   "outputs": [
    {
     "data": {
      "text/plain": [
       "3"
      ]
     },
     "execution_count": 4,
     "metadata": {},
     "output_type": "execute_result"
    }
   ],
   "source": [
    "bat = bateau(3)\n",
    "print(bat.size())\n",
    "print(bat.getId())"
   ]
  }
 ],
 "metadata": {
  "kernelspec": {
   "display_name": "Python 3",
   "language": "python",
   "name": "python3"
  },
  "language_info": {
   "codemirror_mode": {
    "name": "ipython",
    "version": 3
   },
   "file_extension": ".py",
   "mimetype": "text/x-python",
   "name": "python",
   "nbconvert_exporter": "python",
   "pygments_lexer": "ipython3",
   "version": "3.7.4"
  }
 },
 "nbformat": 4,
 "nbformat_minor": 2
}

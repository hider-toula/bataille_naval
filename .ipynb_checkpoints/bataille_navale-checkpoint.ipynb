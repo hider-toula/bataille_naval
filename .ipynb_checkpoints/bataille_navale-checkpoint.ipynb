{
 "cells": [
  {
   "cell_type": "markdown",
   "metadata": {},
   "source": [
    "#  * * * * * * * * * * * * * bataille navale*************************************"
   ]
  },
  {
   "cell_type": "code",
   "execution_count": 54,
   "metadata": {},
   "outputs": [],
   "source": [
    "import numpy as np\n",
    "from random import randint\n",
    "import matplotlib.pyplot as plt\n"
   ]
  },
  {
   "cell_type": "markdown",
   "metadata": {},
   "source": [
    "## partie_1----------------------------------------------------------------------------------------------------------\n"
   ]
  },
  {
   "cell_type": "markdown",
   "metadata": {},
   "source": [
    "### la class bateau"
   ]
  },
  {
   "cell_type": "code",
   "execution_count": 55,
   "metadata": {},
   "outputs": [],
   "source": [
    "class bateau ():\n",
    "    def __init__(self,id):\n",
    "        self.id =id \n",
    "    \n",
    "    # fonction qui renvoit la taille du bateau --------------------------------------------------\n",
    "    def getSize(self):\n",
    "        if self.id == 1 :\n",
    "            return 5\n",
    "        elif self.id == 2:\n",
    "            return 4\n",
    "        elif self.id == 3:\n",
    "            return 3\n",
    "        elif self.id == 4:\n",
    "            return 3\n",
    "        elif self.id == 5:\n",
    "            return 2\n",
    "        else:\n",
    "            return 0\n",
    "        \n",
    "    # fonction qui renvoit l'id du bateau ------------------------------------------------------- \n",
    "    def getId(self):\n",
    "        return self.id"
   ]
  },
  {
   "cell_type": "markdown",
   "metadata": {},
   "source": [
    "### la class grille"
   ]
  },
  {
   "cell_type": "code",
   "execution_count": 76,
   "metadata": {},
   "outputs": [],
   "source": [
    "class grille ():\n",
    "    \n",
    "    # initialisation de la matrice a zero---------------------------------------------------------- \n",
    "    def __init__(self):\n",
    "        matrice = []\n",
    "        for i in range(10):\n",
    "            matrice.append([0] * 10)\n",
    "        self.matrice = matrice\n",
    "\n",
    "            \n",
    "            \n",
    "    # fonction pour afficher la grille-----------------------------------------------------------------\n",
    "    def affiche(self,grille=None) :\n",
    "        if(grille is None):\n",
    "            grille=self.matrice\n",
    "        for i in range(len(self.matrice)):\n",
    "            for j in range(len(self.matrice)):\n",
    "                print(grille[i][j],\" \",end='')\n",
    "            print(\"\\n\")\n",
    "        plt.figure(figsize=(5,5))\n",
    "        plt.imshow(self.matrice)\n",
    "        \n",
    "    #fonction pour verifier qu'on depasse pas les bornnes-----------------------------------------------    \n",
    "    def bounds(self,position,direction,nbr,grille=None):\n",
    "        if(grille is None):\n",
    "            grille=self.matrice\n",
    "        return position[direction]+nbr-1 <len(grille)\n",
    "    \n",
    "    #fonction pour verifier si une case est vide--------------------------------------------------------- \n",
    "    def is_vide(self,position,grille=None):\n",
    "        if(grille is None):\n",
    "            grille=self.matrice\n",
    "        return grille[position[0]][position[1]]==0\n",
    "    \n",
    "    # fonction pour verifier si on l'mplacement est vide-------------------------------------------------- \n",
    "    def emplacement_vide(self,position,nbr,direction,grille=None):\n",
    "        if(grille is None):\n",
    "            grille=self.matrice\n",
    "        if direction==1:\n",
    "            for i in range (nbr):\n",
    "                if not(self.is_vide([position[0],position[1]+i],grille)):\n",
    "                    return False\n",
    "            return True\n",
    "        else:\n",
    "            for i in range (nbr):\n",
    "                if not(self.is_vide([position[0]+i,position[1]],grille)):\n",
    "                    return False\n",
    "            return True\n",
    "        \n",
    "    # fonction pour verifier si on peut placer------------------------------------------------------------- \n",
    "    def peut_placer(self,bateau,position,direction,grille=None):\n",
    "        if(grille is None):\n",
    "            grille=self.matrice\n",
    "        if self.bounds(position,direction,bateau.getSize(),grille) : \n",
    "            if self.emplacement_vide(position,bateau.getSize(),direction,grille):\n",
    "                return True\n",
    "        return False\n",
    "    \n",
    "    # une fonction qui permet de copier une matrice--------------------------------------------------------\n",
    "    def copie_grille(self,grille):\n",
    "        return np.array(grille)\n",
    "    \n",
    "    # fonction pour placer un bateau dans la grille---------------------------------------------------------\n",
    "    def place(self,bateau,position,direction,grille=None):\n",
    "        if(grille is None):\n",
    "            grille=self.matrice\n",
    "        \n",
    "        if direction==1:\n",
    "            if self.peut_placer(bateau,position,direction,grille):\n",
    "                for i in range(bateau.getSize()):\n",
    "                    grille[position[0]][position[1]+i]=bateau.getId()\n",
    "        else:\n",
    "            if self.peut_placer(bateau,position,direction,grille):\n",
    "                for i in range(bateau.getSize()):\n",
    "                    grille[position[0]+i][position[1]]=bateau.getId()            \n",
    "        return  grille\n",
    "    \n",
    "    #fonction qui verifier si deux grilles sont egeaux--------------------------------------------------------- \n",
    "    def eq(self, grilleA,grilleB=None):\n",
    "        if(grilleB is None):\n",
    "            grilleB=self.matrice\n",
    "        return np.array_equal(grilleA,grilleB)  \n",
    "    \n",
    "    # une fonction qui place aleatoirement un bateau dans la grille--------------------------------------------\n",
    "    def place_alea(self, bateau,grille=None):\n",
    "        if grille is None :\n",
    "            grille=self.matrice\n",
    "            \n",
    "            \n",
    "        position = []\n",
    "        for i in range(2):\n",
    "            position.append(0)\n",
    "        direction = randint(0,1)            \n",
    "        position[0] = randint(0,9)         \n",
    "        position[1] = randint(0,9)\n",
    "        while(not(self.peut_placer(bateau,position,direction))):\n",
    "            direction = randint(0,1)\n",
    "            position[0] = randint(0,9)         \n",
    "            position[1] = randint(0,9)\n",
    "        return self.place(bateau,position,direction,grille)\n",
    "        \n",
    "    # une fonction qui permet de generer une grille---------------------------------------------------------   \n",
    "    def genere_grille(self,grille=None):\n",
    "        if grille is None :\n",
    "            grille = self.copie_grille( self.matrice)\n",
    "            \n",
    "        cpt = 5\n",
    "        while(cpt > 3):\n",
    "            self.place_alea(bateau(cpt),grille)\n",
    "            cpt = cpt -1\n",
    "\n",
    "        return grille\n",
    "    \n",
    "    # une fonction qui calcule le nombre de configuration pour un bateau ------------------------------------\n",
    "    def nb_config_bateau(self,bateau):\n",
    "        return ((10-bateau.getSize())+1)*10*2\n",
    "    \n",
    "    # une fonction qui calcule le nombre de config possible pour une liste de bateau--------------------------\n",
    "\n",
    "    def nb_config(self,liste_bateau,grille):\n",
    "        nb_config=0\n",
    "        if(len(liste_bateau)==1):\n",
    "            for i in range(len(self.matrice)):\n",
    "                for j in range(len(self.matrice)):\n",
    "                    if(self.peut_placer(liste_bateau[0],[i,j],0,grille)):\n",
    "                        nb_config+=1\n",
    "                    if(self.peut_placer(liste_bateau[0],[i,j],1,grille)):\n",
    "                        nb_config+=1 \n",
    "            return nb_config\n",
    "        for i in range(len(self.matrice)):\n",
    "            for j in range(len(self.matrice)):\n",
    "                if(self.peut_placer(liste_bateau[0],[i,j],0,grille)):\n",
    "                    nb_config =  nb_config + self.nb_config( [i for i in liste_bateau[1:]],self.place(liste_bateau[0],[i,j],0,self.copie_grille( grille)))\n",
    "                if(self.peut_placer(liste_bateau[0],[i,j],1,grille)):\n",
    "                    nb_config = nb_config + self.nb_config([i for i in liste_bateau[1:]],self.place(liste_bateau[0],[i,j],1,self.copie_grille( grille)))\n",
    "        return nb_config\n",
    "    \n",
    "    \n",
    "    def proba_grille(self,grilleA):\n",
    "        nb_config=0\n",
    "        while(not self.eq(grilleA,self.genere_grille(self.copie_grille( self.matrice)))):\n",
    "            nb_config = nb_config+1\n",
    "        return nb_config\n",
    "    \n",
    "    def nb_config_approximer(self):\n",
    "        result = 0\n",
    "        compteur=0\n",
    "        while (compteur <10):\n",
    "            grilleA = grille.genere_grille()\n",
    "            result= result + self.proba_grille(grilleA)\n",
    "            compteur+=1\n",
    "        return result/10\n",
    "\n",
    "        \n",
    "        \n",
    "        \n"
   ]
  },
  {
   "cell_type": "code",
   "execution_count": 77,
   "metadata": {},
   "outputs": [
    {
     "name": "stdout",
     "output_type": "stream",
     "text": [
      "28355.838\n"
     ]
    }
   ],
   "source": [
    "#bateau=bateau(5)\n",
    "grille = grille()\n",
    "\n",
    "print(grille.nb_config_approximer())\n"
   ]
  },
  {
   "cell_type": "code",
   "execution_count": 63,
   "metadata": {
    "scrolled": true
   },
   "outputs": [
    {
     "data": {
      "text/plain": [
       "[1, 1, 1, 1]"
      ]
     },
     "execution_count": 63,
     "metadata": {},
     "output_type": "execute_result"
    }
   ],
   "source": [
    "\n",
    "#bateau=bateau(5)\n",
    "#grille = grille()\n",
    "#grille.peut_placer(bateau,pos,1)\n",
    "liste =[2,1,1,1,1]\n",
    "len(liste)\n",
    "liste[1:]"
   ]
  },
  {
   "cell_type": "markdown",
   "metadata": {},
   "source": [
    "## partie_2 --------------------------------------------------------------------------------------------------------\n"
   ]
  },
  {
   "cell_type": "markdown",
   "metadata": {},
   "source": [
    "<font color=\"RED\" size=\"+1\">**[Q]**</font> **Le nombre de configuration possible :**\n",
    "\n",
    "la born sup pour le nombre de configuration possible est de 74 milliards.\n",
    "#### Raisonnement : \n",
    "on considere une grille vide a chaque placement d'un bateau, ce qui fait : \n",
    "\n",
    "si par exemple on veut placer un porte-avions( 5 cases ). Les lignes et les colonnes contiennent 10 cases, ce qui veut dire qu'on peut le placer dans 6 cases différentes. Ce qui donne 6 * 10 pour les lignes de la grille ainsi que pour les colonnes.\n",
    "Donc ( 6*10 ) *2 = 120 configurations possibles pour placer un porte avions.\n",
    "on raisonne pareillement pour les autres types de bateau, ce qui donne :\n",
    "\n",
    "-porte-avions(5 cases): ( 6 * 10 ) *2 = 120  \n",
    "-croiseur(4 cases): ( 7 * 10 ) * 2 = 140 \n",
    "-contre-torpilleurs(3 cases): ( 8 * 10 ) *2 = 160             \n",
    "-sous-marin(3 cases): ( 8 * 10 ) *2 = 160    \n",
    "-torpilleur(2 cases): ( 9 * 10 ) *2 = 180 \n",
    "\n",
    "120 *140 *160 *160 *180 = 7,74144e10\n",
    "\n",
    "##### remarque:\n",
    "cette borne ne sera jamais atteinte car on considère a chaque fois une grille vide. Mais ca reste une borne supérieure qui ne sera jamais dépasser."
   ]
  },
  {
   "cell_type": "markdown",
   "metadata": {},
   "source": [
    "<font color=\"RED\" size=\"+1\">**[Q]**</font> **Le lien entre la grille generée et le nombre de config :**\n",
    "\n",
    "le lien entre la grille generée (pg) et le nombre de config (nb_config) est : que la proba de pg est egale a 1/nb_config "
   ]
  },
  {
   "cell_type": "code",
   "execution_count": null,
   "metadata": {},
   "outputs": [],
   "source": []
  },
  {
   "cell_type": "code",
   "execution_count": null,
   "metadata": {},
   "outputs": [],
   "source": []
  }
 ],
 "metadata": {
  "celltoolbar": "Pièces jointes",
  "kernelspec": {
   "display_name": "Python 3",
   "language": "python",
   "name": "python3"
  },
  "language_info": {
   "codemirror_mode": {
    "name": "ipython",
    "version": 3
   },
   "file_extension": ".py",
   "mimetype": "text/x-python",
   "name": "python",
   "nbconvert_exporter": "python",
   "pygments_lexer": "ipython3",
   "version": "3.7.4"
  }
 },
 "nbformat": 4,
 "nbformat_minor": 2
}
